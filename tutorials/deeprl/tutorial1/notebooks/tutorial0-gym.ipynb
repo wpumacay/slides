{
 "cells": [
  {
   "cell_type": "markdown",
   "metadata": {},
   "source": [
    "# Using Gym and other rl frameworks"
   ]
  },
  {
   "cell_type": "markdown",
   "metadata": {},
   "source": [
    "[Gym](https://github.com/openai/gym/) provides a set of environments to test reinforcement learning algorithms. In this quick intro we will discuss:\n",
    "\n",
    "* How to use it\n",
    "* How to create our own wrappers\n",
    "* How to use some other environments from different libraries"
   ]
  },
  {
   "cell_type": "code",
   "execution_count": 2,
   "metadata": {},
   "outputs": [],
   "source": [
    "# single-import required for gym :D\n",
    "import gym\n",
    "\n",
    "# some other functionality we might need\n",
    "import numpy as np\n",
    "import matplotlib.pyplot as plt\n",
    "from tqdm import tqdm\n",
    "%matplotlib inline"
   ]
  },
  {
   "cell_type": "markdown",
   "metadata": {},
   "source": [
    "Gym provides various environments, each accessible through its own environment-id. The list can be found [here](https://github.com/openai/gym/blob/master/docs/environments.md)"
   ]
  },
  {
   "cell_type": "code",
   "execution_count": 7,
   "metadata": {},
   "outputs": [
    {
     "name": "stdout",
     "output_type": "stream",
     "text": [
      "['__class__', '__delattr__', '__dict__', '__dir__', '__doc__', '__enter__', '__eq__', '__exit__', '__format__', '__ge__', '__getattr__', '__getattribute__', '__gt__', '__hash__', '__init__', '__init_subclass__', '__le__', '__lt__', '__module__', '__ne__', '__new__', '__reduce__', '__reduce_ex__', '__repr__', '__setattr__', '__sizeof__', '__str__', '__subclasshook__', '__weakref__', '_elapsed_steps', '_max_episode_steps', 'action_space', 'class_name', 'close', 'compute_reward', 'env', 'metadata', 'observation_space', 'render', 'reset', 'reward_range', 'seed', 'spec', 'step', 'unwrapped']\n"
     ]
    }
   ],
   "source": [
    "# create and environment through its ID\n",
    "env = gym.make( 'CartPole-v0' )\n",
    "# inspect it a little bit\n",
    "print( dir( env ) )"
   ]
  },
  {
   "cell_type": "code",
   "execution_count": 10,
   "metadata": {},
   "outputs": [
    {
     "data": {
      "text/plain": [
       "2"
      ]
     },
     "execution_count": 10,
     "metadata": {},
     "output_type": "execute_result"
    }
   ],
   "source": [
    "env.action_space.n"
   ]
  },
  {
   "cell_type": "markdown",
   "metadata": {},
   "source": [
    "Recall the RL agent-environment interface. Gym provides just that through the following API:\n",
    "\n",
    "* **env.reset()** : resets the environment to a initial configuration from the initial state distribution $\\rho_{0}$\n",
    "* **env.step( action )** : executes the given **action** in the environment, and returns the transition information,  consisting of **next state(s)**, **reward(s)**, and **termination flag(s)**.\n",
    "\n",
    "Aditionally, most environments provided some kind of visualization, which can be accesses through the **env.render()** method."
   ]
  },
  {
   "cell_type": "code",
   "execution_count": 17,
   "metadata": {},
   "outputs": [],
   "source": [
    "# reset environment and grab state from initial distribution\n",
    "s = env.reset()\n",
    "while True :\n",
    "    a = np.random.randint( 0, env.action_space.n )\n",
    "    snext, r, done, _ = env.step( a )\n",
    "    env.render()\n",
    "    \n",
    "    if done :\n",
    "        break\n",
    "env.close()"
   ]
  }
 ],
 "metadata": {
  "kernelspec": {
   "display_name": "Python 3",
   "language": "python",
   "name": "python3"
  },
  "language_info": {
   "codemirror_mode": {
    "name": "ipython",
    "version": 3
   },
   "file_extension": ".py",
   "mimetype": "text/x-python",
   "name": "python",
   "nbconvert_exporter": "python",
   "pygments_lexer": "ipython3",
   "version": "3.6.9"
  }
 },
 "nbformat": 4,
 "nbformat_minor": 2
}
